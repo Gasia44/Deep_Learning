{
 "cells": [
  {
   "cell_type": "markdown",
   "metadata": {},
   "source": [
    "# Differentiation "
   ]
  },
  {
   "cell_type": "markdown",
   "metadata": {},
   "source": [
    "Since it easy to google every task please please please try to undestand what's going on. The \"just answer\" thing will be not counted, make sure to present derivation of your solution. It is absolutely OK if you found an answer on web then just exercise in $\\LaTeX$ copying it into here."
   ]
  },
  {
   "cell_type": "markdown",
   "metadata": {},
   "source": [
    "Useful links: \n",
    "[1](http://www.machinelearning.ru/wiki/images/2/2a/Matrix-Gauss.pdf)\n",
    "[2](http://www.atmos.washington.edu/~dennis/MatrixCalculus.pdf)\n",
    "[3](http://cal.cs.illinois.edu/~johannes/research/matrix%20calculus.pdf)"
   ]
  },
  {
   "cell_type": "markdown",
   "metadata": {},
   "source": [
    "## ex. 1"
   ]
  },
  {
   "cell_type": "markdown",
   "metadata": {},
   "source": [
    "$$  \n",
    "y = x^Tx,  \\quad x \\in \\mathbb{R}^N \n",
    "$$"
   ]
  },
  {
   "cell_type": "markdown",
   "metadata": {},
   "source": [
    "$$\n",
    "\\frac{\\partial y}{\\partial x} = ?\n",
    "$$"
   ]
  },
  {
   "cell_type": "markdown",
   "metadata": {},
   "source": [
    "$$\n",
    "y = x^Tx = \\begin{bmatrix} x_{1}  x_{2}  \\cdots x_{N} \\end{bmatrix} \\begin{bmatrix} x_{1} \\\\ x_{2} \\\\ \\vdots \\\\x_{N} \\end{bmatrix}= x_{1}^2 + x_{2}^2 +  \\cdots + x_{N}^2\n",
    "$$"
   ]
  },
  {
   "cell_type": "markdown",
   "metadata": {},
   "source": [
    "$$\n",
    "\\frac{\\partial y}{\\partial x_{i}} = \\frac{\\partial (x_{1}^2 + x_{2}^2 + ... + x_{N}^2)}{\\partial x_{i}} = 2x_{i}\n",
    "$$"
   ]
  },
  {
   "cell_type": "markdown",
   "metadata": {},
   "source": [
    "$$\n",
    "\\frac{\\partial y}{\\partial x} = 2x\n",
    "$$"
   ]
  },
  {
   "cell_type": "markdown",
   "metadata": {},
   "source": [
    "## ex. 2"
   ]
  },
  {
   "cell_type": "markdown",
   "metadata": {},
   "source": [
    "$$ y = tr(AB) \\quad A,B \\in \\mathbb{R}^{N \\times N} $$ "
   ]
  },
  {
   "cell_type": "markdown",
   "metadata": {},
   "source": [
    "$$\n",
    "\\frac{\\partial}{\\partial a_{ij}} y = ?\n",
    "$$\n",
    "\n",
    "$$\n",
    "\\frac{dy}{dA} = ?\n",
    "$$"
   ]
  },
  {
   "cell_type": "markdown",
   "metadata": {},
   "source": [
    "$$\n",
    "y = tr(AB) =\\sum_{i=1}^{N} \\sum_{j=1}^{N} a_{ij} b_{ji}\n",
    "$$"
   ]
  },
  {
   "cell_type": "markdown",
   "metadata": {},
   "source": [
    "$$\n",
    "\\frac{\\partial}{\\partial a_{ij}} y = \\frac{\\partial (\\sum_{i=1}^{N} \\sum_{j=1}^{N} a_{ij} b_{ji})}{\\partial a_{ij}} = b_{ji}\n",
    "$$"
   ]
  },
  {
   "cell_type": "markdown",
   "metadata": {},
   "source": [
    "$$\n",
    "\\frac{dy}{dA} = \\begin{pmatrix} \\frac{\\partial y}{\\partial a_{11}} & \\frac{\\partial y}{\\partial a_{12}} & \\cdots  & \\frac{\\partial y}{\\partial a_{1N}}\\\\ \\frac{\\partial y}{\\partial a_{21}} & \\frac{\\partial y}{\\partial a_{22}} & \\cdots & \\frac{\\partial y}{\\partial a_{2N}} \\\\ \\vdots & \\vdots  & \\vdots  & \\vdots \\\\ \\frac{\\partial y}{\\partial a_{N1}} & \\frac{\\partial y}{\\partial a_{N2}} & \\cdots & \\frac{\\partial y}{\\partial a_{NN}} \\end{pmatrix} = \\begin{pmatrix} b_{11} & b_{21} & \\cdots & b_{N1} \\\\  b_{12} & b_{22} & \\cdots & b_{N2} \\\\ \\vdots  & \\vdots  & \\vdots  & \\vdots \\\\ b_{1N} & b_{2N} & \\cdots & b_{NN} \\end{pmatrix} = B^T\n",
    "$$"
   ]
  },
  {
   "cell_type": "markdown",
   "metadata": {},
   "source": [
    "## ex. 3"
   ]
  },
  {
   "cell_type": "markdown",
   "metadata": {},
   "source": [
    "$$  \n",
    "y = x^TAc , \\quad A\\in \\mathbb{R}^{N \\times N}, x\\in \\mathbb{R}^{N}, c\\in \\mathbb{R}^{N} \n",
    "$$"
   ]
  },
  {
   "cell_type": "markdown",
   "metadata": {},
   "source": [
    "$$\n",
    "\\frac{dy}{dA} = ?\n",
    "$$ "
   ]
  },
  {
   "cell_type": "markdown",
   "metadata": {},
   "source": [
    "$$\n",
    "y = \\begin{pmatrix} x_{1} & x_{2} & \\cdots & x_{N} \\end{pmatrix} \\begin{pmatrix} a_{11} & a_{12} & \\cdots & a_{1N} \\\\ a_{21} & a_{22} & ... & a_{2N} \\\\ \\vdots  & \\vdots  & \\vdots  & \\vdots \\\\ a_{N1} & a_{N2} & ... & a_{NN} \\end{pmatrix} \\begin{pmatrix} c_{1} \\\\ c_{2} \\\\ \\vdots \\\\c_{N} \\end{pmatrix} = \\sum_{j=1}^{N} (c_{j} \\sum_{i=1}^{N} (x_{i}a_{ij}) )\n",
    "$$"
   ]
  },
  {
   "cell_type": "markdown",
   "metadata": {},
   "source": [
    "$$\n",
    "\\frac{dy}{da_{ij}} = c_{j}x_{i}\n",
    "$$ "
   ]
  },
  {
   "cell_type": "markdown",
   "metadata": {},
   "source": [
    "$$\n",
    "\\frac{dy}{dA} = \\begin{pmatrix} {c_{1}x_{1}} & {c_{2}x_{1}} & {\\cdots} & {c_{N}x_{1}} \\\\  c_{1}x_{2} & c_{2}x_{2} & \\cdots & c_{N}x_{2} \\\\ \\vdots  & \\vdots  & \\vdots  & \\vdots \\\\  c_{1}x_{N} & c_{2}x_{N} & \\cdots & c_{N}x_{N} \\end{pmatrix} = xc^T\n",
    "$$ "
   ]
  },
  {
   "cell_type": "markdown",
   "metadata": {},
   "source": [
    "## ex. 4"
   ]
  },
  {
   "cell_type": "markdown",
   "metadata": {},
   "source": [
    "Classic matrix factorization example. Given matrix $X$ you need to find $A$, $S$ to approximate $X$. This can be done by simple gradient descent iteratively alternating $A$ and $S$ updates.\n",
    "$$\n",
    "J = || X - AS ||_2^2  , \\quad A\\in \\mathbb{R}^{N \\times R} , \\quad S\\in \\mathbb{R}^{R \\times M}\n",
    "$$"
   ]
  },
  {
   "cell_type": "markdown",
   "metadata": {},
   "source": [
    "$$\n",
    "\\frac{dJ}{dS} = ?\n",
    "$$"
   ]
  },
  {
   "cell_type": "markdown",
   "metadata": {},
   "source": [
    "$$\n",
    "J = || X - AS ||_2^2 = tr((X - AS)(X - AS)^T)\n",
    "$$"
   ]
  },
  {
   "cell_type": "markdown",
   "metadata": {},
   "source": [
    "$$\n",
    "\\frac{dJ}{dS} = \\frac{d(tr((X - AS)(X - AS)^T))}{dS} = \\frac{d(tr((X - AS)(X - AS)^T))}{d(X-AS)} \\frac{d(X - AS)}{dS}\\ = ((X - AS)^T)^T\\frac{d(X - AS)}{dS} = (X - AS)\\frac{d(X - AS)}{dS}= 2A^T(AS - X)\n",
    "$$"
   ]
  },
  {
   "cell_type": "markdown",
   "metadata": {},
   "source": [
    "### First approach\n",
    "Using ex.2 and the fact:\n",
    "$$\n",
    "|| X ||_2^2 = tr(XX^T) \n",
    "$$ \n",
    "it is easy to derive gradients (you can find it in one of the refs). "
   ]
  },
  {
   "cell_type": "markdown",
   "metadata": {
    "collapsed": true
   },
   "source": [
    "### Second approach\n",
    "You can use *slightly different techniques* if they suits you. Take a look at this derivation:\n",
    "![](../imgs/grad.png)\n",
    "\n",
    "(excerpt from [Handbook of blind source separation, Jutten, page 517](https://books.google.ru/books?id=PTbj03bYH6kC&printsec=frontcover&dq=Handbook+of+Blind+Source+Separation&hl=en&sa=X&ved=0ahUKEwi-q_apiJDLAhULvXIKHVXJDWcQ6AEIHDAA#v=onepage&q=Handbook%20of%20Blind%20Source%20Separation&f=false), open for better picture)."
   ]
  }
 ],
 "metadata": {
  "kernelspec": {
   "display_name": "Python 3",
   "language": "python",
   "name": "python3"
  },
  "language_info": {
   "codemirror_mode": {
    "name": "ipython",
    "version": 3
   },
   "file_extension": ".py",
   "mimetype": "text/x-python",
   "name": "python",
   "nbconvert_exporter": "python",
   "pygments_lexer": "ipython3",
   "version": "3.6.0"
  }
 },
 "nbformat": 4,
 "nbformat_minor": 1
}
